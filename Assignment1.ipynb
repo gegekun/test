{
 "cells": [
  {
   "cell_type": "markdown",
   "metadata": {},
   "source": [
    "# 課題1：仮説検定を実装する\n",
    "\n",
    "ここでは、いわゆる古典的統計手法と言われる仮説検定をPythonで実装してみましょう。\n",
    "\n",
    "レッスン6までで学んだ内容を踏まえ、各セルに入っているコメントを実行するコードを記入してください。"
   ]
  },
  {
   "cell_type": "markdown",
   "metadata": {},
   "source": [
    "## 1. 必要なモジュールの読み込み"
   ]
  },
  {
   "cell_type": "code",
   "execution_count": 1,
   "metadata": {},
   "outputs": [],
   "source": [
    "import numpy as np\n",
    "import matplotlib.pyplot as plt\n",
    "import seaborn as sns\n",
    "sns.set()\n",
    "from scipy import stats\n",
    "\n",
    "%matplotlib inline"
   ]
  },
  {
   "cell_type": "markdown",
   "metadata": {},
   "source": [
    "## 2. 1標本における解析\n",
    "\n",
    "本課題では乱数を発生させることでデータを作成し、それについて解析してみましょう。\n",
    "\n",
    "乱数のパラメータを変更すると結果がどう変化するのか、試してみるとより理解が深まるかと思います。"
   ]
  },
  {
   "cell_type": "code",
   "execution_count": 2,
   "metadata": {},
   "outputs": [],
   "source": [
    "# 任意の平均値・標準偏差をもつ正規乱数をサイズ1000個で作成し、\"data1\"に格納\n"
   ]
  },
  {
   "cell_type": "code",
   "execution_count": 3,
   "metadata": {},
   "outputs": [],
   "source": [
    "#　data1のヒストグラムを作成\n"
   ]
  },
  {
   "cell_type": "code",
   "execution_count": 4,
   "metadata": {},
   "outputs": [],
   "source": [
    "# 母平均の点推定を計算し、結果を表示\n"
   ]
  },
  {
   "cell_type": "code",
   "execution_count": 5,
   "metadata": {},
   "outputs": [],
   "source": [
    "# 95%信頼区間の推定を行い、上側信頼限界と下側信頼限界の値を表示\n"
   ]
  },
  {
   "cell_type": "code",
   "execution_count": 6,
   "metadata": {},
   "outputs": [],
   "source": [
    "# 任意の帰無仮説を設定し、それに基づきt値を計算して、片側検定した結果を表示してください\n"
   ]
  },
  {
   "cell_type": "code",
   "execution_count": 7,
   "metadata": {},
   "outputs": [],
   "source": [
    "# 任意の帰無仮説を設定し、それに基づきt値を計算して、両側検定した結果を表示してください\n"
   ]
  },
  {
   "cell_type": "markdown",
   "metadata": {},
   "source": [
    "## 3. 2標本における解析\n",
    "\n",
    "標本をもう1つ増やし、先ほどの標本と差があるのか否かについて検討してみましょう。"
   ]
  },
  {
   "cell_type": "code",
   "execution_count": 8,
   "metadata": {},
   "outputs": [],
   "source": [
    "# 任意の平均値・標準偏差をもつ正規乱数をサイズ1000個で作成し、\"data2\"に格納\n"
   ]
  },
  {
   "cell_type": "code",
   "execution_count": 9,
   "metadata": {},
   "outputs": [],
   "source": [
    "# data1とdata2をヒストグラムにてプロット\n"
   ]
  },
  {
   "cell_type": "code",
   "execution_count": 10,
   "metadata": {},
   "outputs": [],
   "source": [
    "# data1, data2それぞれの値を使って「対応のあるt検定」で計算し、結果を表示\n"
   ]
  },
  {
   "cell_type": "code",
   "execution_count": 11,
   "metadata": {},
   "outputs": [],
   "source": [
    "# data1, data2それぞれの値を使って「対応のないt検定」で計算し、結果を表示\n"
   ]
  },
  {
   "cell_type": "markdown",
   "metadata": {},
   "source": [
    "## 4. ここまでの仮説検定の結果を解釈して下記に記載してください"
   ]
  },
  {
   "cell_type": "markdown",
   "metadata": {},
   "source": [
    "data1はdata2と「  」（ここをダブルクリックして編集状態にし、カギカッコの中に文言を埋めてください）"
   ]
  },
  {
   "cell_type": "markdown",
   "metadata": {},
   "source": [
    "※ なお、pvalueがマイナス指数表記となっている場合に注意ください。  \n",
    "　 例えば pvalue 1.20e-12 であった場合は、1.20 * 10^-2 という意味となります。\n",
    "  \n",
    "[Lesson 14 Chapter 3.1 指数と対数 指数](https://techacademy.jp/my/datascience/data-science3/math-basic#chapter-3-1)"
   ]
  }
 ],
 "metadata": {
  "kernelspec": {
   "display_name": "Python 3 (ipykernel)",
   "language": "python",
   "name": "python3"
  },
  "language_info": {
   "codemirror_mode": {
    "name": "ipython",
    "version": 3
   },
   "file_extension": ".py",
   "mimetype": "text/x-python",
   "name": "python",
   "nbconvert_exporter": "python",
   "pygments_lexer": "ipython3",
   "version": "3.8.3"
  }
 },
 "nbformat": 4,
 "nbformat_minor": 4
}
